{
 "cells": [
  {
   "cell_type": "markdown",
   "metadata": {
    "id": "6oZws97D75ch"
   },
   "source": [
    "# Main Task 1: Basic Python Exercise."
   ]
  },
  {
   "cell_type": "markdown",
   "metadata": {
    "id": "K1jiCv7XY-Pv"
   },
   "source": [
    "## 1a. Factorial Calculation\n",
    "**Requirement:**\n",
    "- Write a function that takes an integer as input.\n",
    "- Use a loop (e.g., for loop) to compute the factorial of the number.\n",
    "- Return the computed factorial value."
   ]
  },
  {
   "cell_type": "code",
   "execution_count": null,
   "metadata": {
    "id": "XepcuDD2YKa9"
   },
   "outputs": [],
   "source": [
    "# 1. Factorial function using a loop\n",
    "def factorial(n):\n",
    "    # TODO\n",
    "\n",
    "num = 5\n",
    "print(\"Factorial of\", num, \"is:\", factorial(num))"
   ]
  },
  {
   "cell_type": "markdown",
   "metadata": {
    "id": "xW6hBxDWtUvm"
   },
   "source": [
    "## 1b. Fibonacci Sequence Generation\n",
    "**Requirement:**\n",
    "- Write a function that accepts a number n and returns a list of the first n Fibonacci numbers.\n",
    "- Handle edge cases (e.g., when n <= 0, return an empty list or provide an appropriate message).\n",
    "\n"
   ]
  },
  {
   "cell_type": "code",
   "execution_count": null,
   "metadata": {
    "id": "1FISvbgitSkl"
   },
   "outputs": [],
   "source": [
    "# 2. Fibonacci sequence function\n",
    "def fibonacci(n):\n",
    "    # TODO\n",
    "\n",
    "print(\"First 10 Fibonacci numbers:\", fibonacci(10))"
   ]
  },
  {
   "cell_type": "markdown",
   "metadata": {
    "id": "ZkRm1XWZt1VU"
   },
   "source": [
    "## 1c. BankAccount class definition\n",
    "**Requirement:**\n",
    "- Create a class BankAccount with an initializer that sets the account owner and an optional initial balance.\n",
    "- Implement a deposit method to add funds.\n",
    "- Implement a withdraw method that subtracts funds with proper balance checks.\n",
    "- Include a method (or print statements within deposit/withdraw methods) to display the current balance.\n"
   ]
  },
  {
   "cell_type": "code",
   "execution_count": null,
   "metadata": {
    "id": "PQVO56XKtyPv"
   },
   "outputs": [],
   "source": [
    "class BankAccount:\n",
    "    def __init__(self, owner, balance=0):\n",
    "        self.owner = owner\n",
    "        self.balance = balance\n",
    "\n",
    "    def deposit(self, amount):\n",
    "        # TODO\n",
    "        print(f\"{amount} deposited. New balance: {self.balance}\")\n",
    "\n",
    "    def withdraw(self, amount):\n",
    "        if # TODO:\n",
    "            print(\"Insufficient funds\")\n",
    "        else:\n",
    "            # TODO\n",
    "            print(f\"{amount} withdrawn. New balance: {self.balance}\")\n",
    "\n",
    "# Create a BankAccount instance and perform transactions\n",
    "account = BankAccount(\"Alice\", 100)\n",
    "account.deposit(50)\n",
    "account.withdraw(30)\n",
    "account.withdraw(150)"
   ]
  },
  {
   "cell_type": "markdown",
   "metadata": {
    "id": "O6rfVQMK9gQ4"
   },
   "source": [
    "# Main Task 2: ML Tools Exercise."
   ]
  },
  {
   "cell_type": "code",
   "execution_count": null,
   "metadata": {
    "id": "xMhGgIt9wOn2"
   },
   "outputs": [],
   "source": [
    "import numpy as np\n",
    "import pandas as pd\n",
    "import matplotlib.pyplot as plt\n",
    "from sklearn.datasets import load_iris\n",
    "from sklearn.linear_model import LogisticRegression\n",
    "from sklearn.model_selection import train_test_split\n",
    "from sklearn.metrics import accuracy_score\n",
    "\n",
    "# Load the iris dataset\n",
    "iris = load_iris()\n",
    "X = iris.data\n",
    "y = iris.target\n",
    "\n",
    "# Convert to a Pandas DataFrame\n",
    "df = pd.DataFrame(X, columns=iris.feature_names)"
   ]
  },
  {
   "cell_type": "markdown",
   "metadata": {
    "id": "oFsQ1eTO1kPu"
   },
   "source": [
    "## 2a. Convert data into Pandas dataframe\n",
    "**Requirement:**\n",
    "- Add a column of the labels in the dataframe.\n",
    "- Display the first 10 rows of the dataframe ([hint](https://pandas.pydata.org/docs/reference/api/pandas.DataFrame.head.html)).  "
   ]
  },
  {
   "cell_type": "code",
   "execution_count": null,
   "metadata": {
    "id": "9vLzJd-H0-P7"
   },
   "outputs": [],
   "source": [
    "df['species'] = #TODO\n",
    "#TODO"
   ]
  },
  {
   "cell_type": "markdown",
   "metadata": {
    "id": "W2PEkrgAG-6R"
   },
   "source": [
    "## 2b. Visualize key features of the Iris dataset.\n",
    "**Requirement:**\n",
    "- Use Matplotlib to create a scatter plot ([hint](https://matplotlib.org/stable/api/_as_gen/matplotlib.pyplot.scatter.html)).\n",
    "- Plot sepal length versus sepal width.\n",
    "- Use color coding to distinguish between different species."
   ]
  },
  {
   "cell_type": "code",
   "execution_count": null,
   "metadata": {
    "id": "DJL_01JM09EP"
   },
   "outputs": [],
   "source": [
    "# Plot sepal length vs. sepal width\n",
    "plt.figure()\n",
    "# TODO\n",
    "plt.xlabel('Sepal Length (cm)')\n",
    "plt.ylabel('Sepal Width (cm)')\n",
    "plt.title('Sepal Length vs. Sepal Width')\n",
    "plt.show()"
   ]
  },
  {
   "cell_type": "markdown",
   "metadata": {
    "id": "CMam4PVavAM7"
   },
   "source": [
    "## 2c. Model Training and Evaluation\n",
    "**Requirement:**\n",
    "- Split the dataset into training and testing subsets ([hint](https://scikit-learn.org/stable/modules/generated/sklearn.model_selection.train_test_split.html)).\n",
    "- Train a Logistic Regression model using the training data ([hint](https://scikit-learn.org/stable/modules/generated/sklearn.linear_model.LogisticRegression.html)).\n",
    "- Use the model to predict the test data.\n",
    "- Compute and print the model’s accuracy score ([hint](https://scikit-learn.org/stable/modules/generated/sklearn.metrics.accuracy_score.html))."
   ]
  },
  {
   "cell_type": "code",
   "execution_count": null,
   "metadata": {
    "id": "5krUbQ8-YdVP"
   },
   "outputs": [],
   "source": [
    "# Split the data into training and testing sets\n",
    "X_train, X_test, y_train, y_test = #TODO\n",
    "\n",
    "# Train a Logistic Regression model\n",
    "model = #TODO\n",
    "model.fit(X_train, y_train)\n",
    "\n",
    "# Make predictions and evaluate the model\n",
    "y_pred = #TODO\n",
    "accuracy = #TODO\n",
    "print(\"Test Accuracy:\", accuracy)"
   ]
  },
  {
   "cell_type": "markdown",
   "metadata": {
    "id": "2ZgHUGlXKC4t"
   },
   "source": [
    "# Advanced Task: Deep Learning with Pytorch"
   ]
  },
  {
   "cell_type": "code",
   "execution_count": null,
   "metadata": {
    "id": "9SiYS0EHIS5M"
   },
   "outputs": [],
   "source": [
    "import torch\n",
    "import torch.nn as nn\n",
    "import torch.optim as optim\n",
    "import matplotlib.pyplot as plt\n",
    "import numpy as np\n",
    "\n",
    "# Set random seed for reproducibility\n",
    "np.random.seed(42)\n",
    "\n",
    "# Generate synthetic data: 200 points in 2D space\n",
    "# Label: 0 if y < 0.5*x + 1, else 1\n",
    "X_np = np.random.rand(200, 2) * 10\n",
    "y_np = (X_np[:, 1] > 0.5 * X_np[:, 0] + 1).astype(np.int64)"
   ]
  },
  {
   "cell_type": "markdown",
   "metadata": {
    "id": "9zi7-JMVJE9A"
   },
   "source": [
    "## 3a. Convert the input data X_np and y_np into torch tensor."
   ]
  },
  {
   "cell_type": "code",
   "execution_count": null,
   "metadata": {
    "id": "DaW-QPXvIVXe"
   },
   "outputs": [],
   "source": [
    "# Convert the numpy arrays to PyTorch tensors\n",
    "X_tensor = torch.tensor(X_np, dtype=torch.float32)\n",
    "y_tensor = torch.tensor(y_np, dtype=torch.long)"
   ]
  },
  {
   "cell_type": "markdown",
   "metadata": {
    "id": "jjYT-qyXJTiq"
   },
   "source": [
    "## 3b. Neural Network Definition\n",
    "**Requirement:**\n",
    "- An input layer that accepts 2 features.\n",
    "- One hidden layer with a 16 number of neurons.\n",
    "- An output layer with 2 units (one for each class).\n",
    "- Apply an ReLU activation function after the hidden layer."
   ]
  },
  {
   "cell_type": "code",
   "execution_count": null,
   "metadata": {
    "id": "jkYQY2MvIthK"
   },
   "outputs": [],
   "source": [
    "# Define a simple neural network\n",
    "class SimpleNet(nn.Module):\n",
    "    def __init__(self):\n",
    "        super(SimpleNet, self).__init__()\n",
    "        self.fc1 = nn.Linear(#TODO, #TODO)\n",
    "        self.fc2 = nn.Linear(#TODO, #TODO)\n",
    "\n",
    "    def forward(self, x):\n",
    "        x = torch.relu(self.fc1(x))\n",
    "        x = self.fc2(x)\n",
    "        return x\n",
    "\n",
    "model = SimpleNet()\n",
    "criterion = nn.CrossEntropyLoss()\n",
    "optimizer = optim.SGD(model.parameters(), lr=0.01)"
   ]
  },
  {
   "cell_type": "markdown",
   "metadata": {
    "id": "OTrl1TL6J1UL"
   },
   "source": [
    "## 3c. Training the Neural Network ([Hint](https://pytorch.org/tutorials/beginner/introyt/trainingyt.html))\n",
    "**Requirement:**\n",
    "- Train the network over 100 epochs, updating the model parameters.\n",
    "- Within each epoch:\n",
    "  1. Reset the gradients to zero.\n",
    "  2. Perform a forward pass on the data (`X_tensor`).\n",
    "  3. Compute the loss.\n",
    "  4. Perform a backward pass to compute the gradients.\n",
    "  5. Execute the optimizer's step to update the model parameters.\n",
    "- Print the loss periodically to monitor training progress."
   ]
  },
  {
   "cell_type": "code",
   "execution_count": null,
   "metadata": {
    "id": "dP4FlFaHIxW2"
   },
   "outputs": [],
   "source": [
    "# Training loop\n",
    "num_epochs = #TODO\n",
    "for epoch in range(num_epochs):\n",
    "    #TODO\n",
    "    outputs = #TODO\n",
    "    loss = #TODO\n",
    "    #TODO\n",
    "    #TODO\n",
    "    if (epoch + 1) % 10 == 0:\n",
    "        print(f\"Epoch {epoch + 1}/{num_epochs}, Loss: {loss.item():.4f}\")"
   ]
  },
  {
   "cell_type": "markdown",
   "metadata": {
    "id": "MI5XEyDeKEkY"
   },
   "source": [
    "## 3d. Evaluate model accuracy on the training data"
   ]
  },
  {
   "cell_type": "code",
   "execution_count": null,
   "metadata": {
    "id": "z9ZcFPULI48z"
   },
   "outputs": [],
   "source": [
    "# Evaluate model accuracy on the training data\n",
    "with torch.no_grad():\n",
    "    outputs = model(X_tensor)\n",
    "    _, predicted = torch.max(outputs, 1)\n",
    "    accuracy = (predicted == y_tensor).float().mean()\n",
    "    print(\"Training Accuracy:\", accuracy.item())"
   ]
  },
  {
   "cell_type": "markdown",
   "metadata": {
    "id": "CVHqzaWqKKGZ"
   },
   "source": [
    "## 3e. Decision Boundary Visualization."
   ]
  },
  {
   "cell_type": "code",
   "execution_count": null,
   "metadata": {
    "id": "XjhbeWq4Ypj3"
   },
   "outputs": [],
   "source": [
    "# Plot the data points and decision boundary\n",
    "# Create a grid of points to plot the decision surface\n",
    "x_min, x_max = X_np[:, 0].min() - 1, X_np[:, 0].max() + 1\n",
    "y_min, y_max = X_np[:, 1].min() - 1, X_np[:, 1].max() + 1\n",
    "xx, yy = np.meshgrid(np.linspace(x_min, x_max, 100), np.linspace(y_min, y_max, 100))\n",
    "grid = torch.tensor(np.c_[xx.ravel(), yy.ravel()], dtype=torch.float32)\n",
    "\n",
    "with torch.no_grad():\n",
    "    Z = model(grid)\n",
    "    _, Z = torch.max(Z, 1)\n",
    "Z = Z.numpy().reshape(xx.shape)\n",
    "\n",
    "plt.figure()\n",
    "plt.contourf(xx, yy, Z, alpha=0.3)\n",
    "plt.scatter(X_np[:, 0], X_np[:, 1], c=y_np, edgecolors='k')\n",
    "plt.xlabel('X1')\n",
    "plt.ylabel('X2')\n",
    "plt.title('Decision Boundary and Data Points')\n",
    "plt.show()"
   ]
  }
 ],
 "metadata": {
  "colab": {
   "provenance": []
  },
  "kernelspec": {
   "display_name": "Python 3 (ipykernel)",
   "language": "python",
   "name": "python3"
  },
  "language_info": {
   "codemirror_mode": {
    "name": "ipython",
    "version": 3
   },
   "file_extension": ".py",
   "mimetype": "text/x-python",
   "name": "python",
   "nbconvert_exporter": "python",
   "pygments_lexer": "ipython3",
   "version": "3.9.18"
  }
 },
 "nbformat": 4,
 "nbformat_minor": 4
}
